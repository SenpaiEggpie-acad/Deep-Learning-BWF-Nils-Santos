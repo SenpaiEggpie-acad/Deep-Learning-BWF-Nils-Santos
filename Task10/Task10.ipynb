{
 "cells": [
  {
   "cell_type": "code",
   "execution_count": 1,
   "metadata": {},
   "outputs": [
    {
     "ename": "ModuleNotFoundError",
     "evalue": "No module named 'numpy'",
     "output_type": "error",
     "traceback": [
      "\u001b[1;31m---------------------------------------------------------------------------\u001b[0m",
      "\u001b[1;31mModuleNotFoundError\u001b[0m                       Traceback (most recent call last)",
      "Cell \u001b[1;32mIn[1], line 1\u001b[0m\n\u001b[1;32m----> 1\u001b[0m \u001b[39mimport\u001b[39;00m \u001b[39mnumpy\u001b[39;00m \u001b[39mas\u001b[39;00m \u001b[39mnp\u001b[39;00m\n",
      "\u001b[1;31mModuleNotFoundError\u001b[0m: No module named 'numpy'"
     ]
    }
   ],
   "source": [
    "import numpy as np"
   ]
  },
  {
   "cell_type": "code",
   "execution_count": 14,
   "metadata": {},
   "outputs": [],
   "source": [
    "#creating an array\n",
    "\n",
    "arr1 = np.random.randn(4,4)\n",
    "arr1\n",
    "\n",
    "#array via multidimensional list\n",
    "numbers = [list(range(1,5)), list(range(6,10)), list(range(11,15)), list(range(16,20))]\n",
    "arr2 = np.array(numbers)"
   ]
  },
  {
   "cell_type": "code",
   "execution_count": 19,
   "metadata": {},
   "outputs": [
    {
     "name": "stdout",
     "output_type": "stream",
     "text": [
      "[[ 0.01110337 -0.28365862  1.23694156  0.96249878]\n",
      " [ 0.15336372 -1.0975439   1.22250656 -0.0859879 ]\n",
      " [-1.1130896   1.78264735  0.02553093 -0.12906654]\n",
      " [-1.00452316 -0.62680058  0.20894897 -0.14090766]]\n",
      "[[ 1  2  3  4]\n",
      " [ 6  7  8  9]\n",
      " [11 12 13 14]\n",
      " [16 17 18 19]]\n"
     ]
    }
   ],
   "source": [
    "print(arr1)\n",
    "\n",
    "print(arr2)"
   ]
  },
  {
   "cell_type": "code",
   "execution_count": 7,
   "metadata": {},
   "outputs": [
    {
     "data": {
      "text/plain": [
       "array([[-11.36252052, -15.89473889,  -1.32289904,  13.81863341],\n",
       "       [  4.86912231,  -3.91330506,  12.58727933, -14.5326011 ],\n",
       "       [ -8.48319922,   7.18789641,   1.54567238,  -0.2826706 ],\n",
       "       [  2.13491439,  -9.96139471,  17.16169196,  15.59992719]])"
      ]
     },
     "execution_count": 7,
     "metadata": {},
     "output_type": "execute_result"
    }
   ],
   "source": [
    "#Mathematical operations\n",
    "arr1 * 10"
   ]
  },
  {
   "cell_type": "code",
   "execution_count": 23,
   "metadata": {},
   "outputs": [
    {
     "name": "stdout",
     "output_type": "stream",
     "text": [
      "[[ 0.02220675 -0.56731724  2.47388311  1.92499756]\n",
      " [ 0.30672743 -2.19508781  2.44501313 -0.17197579]\n",
      " [-2.2261792   3.5652947   0.05106187 -0.25813308]\n",
      " [-2.00904632 -1.25360117  0.41789794 -0.28181532]]\n",
      "[[ 0.98889663  2.28365862  1.76305844  3.03750122]\n",
      " [ 5.84663628  8.0975439   6.77749344  9.0859879 ]\n",
      " [12.1130896  10.21735265 12.97446907 14.12906654]\n",
      " [17.00452316 17.62680058 17.79105103 19.14090766]]\n"
     ]
    }
   ],
   "source": [
    "print(arr1 + arr1)\n",
    "\n",
    "print(arr2 - arr1)"
   ]
  },
  {
   "cell_type": "code",
   "execution_count": 11,
   "metadata": {},
   "outputs": [
    {
     "data": {
      "text/plain": [
       "dtype('float64')"
      ]
     },
     "execution_count": 11,
     "metadata": {},
     "output_type": "execute_result"
    }
   ],
   "source": [
    "arr1.shape\n",
    "arr1.dtype"
   ]
  },
  {
   "cell_type": "code",
   "execution_count": 22,
   "metadata": {},
   "outputs": [
    {
     "name": "stdout",
     "output_type": "stream",
     "text": [
      "[[ 1.11033749e-02 -5.67317235e-01  3.71082467e+00  3.84999512e+00]\n",
      " [ 9.20182304e-01 -7.68280733e+00  9.78005252e+00 -7.73891069e-01]\n",
      " [-1.22439856e+01  2.13917682e+01  3.31902137e-01 -1.80693158e+00]\n",
      " [-1.60723706e+01 -1.06556099e+01  3.76108142e+00 -2.67724553e+00]]\n",
      "[[ 0.01110337 -0.14182931  0.41231385  0.2406247 ]\n",
      " [ 0.02556062 -0.15679199  0.15281332 -0.00955421]\n",
      " [-0.10118996  0.14855395  0.00196392 -0.00921904]\n",
      " [-0.0627827  -0.03687062  0.01160828 -0.00741619]]\n"
     ]
    }
   ],
   "source": [
    "#Scalar Multiplication\n",
    "print(arr1*arr2)\n",
    "\n",
    "#Scalar Division\n",
    "print(arr1/arr2)"
   ]
  },
  {
   "cell_type": "code",
   "execution_count": 21,
   "metadata": {},
   "outputs": [
    {
     "data": {
      "text/plain": [
       "array([[27.31548928, 29.24237438, 31.16925947, 33.09614457],\n",
       "       [ 5.63986616,  5.83220464,  6.02454313,  6.21688161],\n",
       "       [ 7.79857011,  8.36459226,  8.9306144 ,  9.49663654],\n",
       "       [-4.72141057, -6.28469301, -7.84797545, -9.41125788]])"
      ]
     },
     "execution_count": 21,
     "metadata": {},
     "output_type": "execute_result"
    }
   ],
   "source": [
    "np.dot(arr1,arr2)"
   ]
  },
  {
   "cell_type": "code",
   "execution_count": null,
   "metadata": {},
   "outputs": [],
   "source": []
  }
 ],
 "metadata": {
  "kernelspec": {
   "display_name": "base",
   "language": "python",
   "name": "python3"
  },
  "language_info": {
   "codemirror_mode": {
    "name": "ipython",
    "version": 3
   },
   "file_extension": ".py",
   "mimetype": "text/x-python",
   "name": "python",
   "nbconvert_exporter": "python",
   "pygments_lexer": "ipython3",
   "version": "3.10.9"
  },
  "orig_nbformat": 4,
  "vscode": {
   "interpreter": {
    "hash": "49cb93f377a7abe7414b7b0f21fb3017538004a126cf690fb524202736b7fb92"
   }
  }
 },
 "nbformat": 4,
 "nbformat_minor": 2
}
