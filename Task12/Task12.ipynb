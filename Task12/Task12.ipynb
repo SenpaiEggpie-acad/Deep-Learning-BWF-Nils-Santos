{
 "cells": [
  {
   "cell_type": "code",
   "execution_count": 1,
   "metadata": {},
   "outputs": [],
   "source": [
    "import numpy as np\n",
    "\n",
    "arr1 = np.random.randint(1,15, size=(4,5))"
   ]
  },
  {
   "cell_type": "code",
   "execution_count": 2,
   "metadata": {},
   "outputs": [
    {
     "data": {
      "text/plain": [
       "array([[11,  9,  3, 14,  4],\n",
       "       [ 6, 14, 11,  7,  4],\n",
       "       [ 7, 11,  5,  4,  4],\n",
       "       [ 5,  4, 10,  8,  3]])"
      ]
     },
     "metadata": {},
     "output_type": "display_data"
    }
   ],
   "source": [
    "display(arr1)"
   ]
  },
  {
   "cell_type": "code",
   "execution_count": 3,
   "metadata": {},
   "outputs": [],
   "source": [
    "arr2 = np.array([2,10,6,4,1])"
   ]
  },
  {
   "cell_type": "code",
   "execution_count": 4,
   "metadata": {},
   "outputs": [
    {
     "name": "stdout",
     "output_type": "stream",
     "text": [
      "[[11  9  3 14  4]\n",
      " [ 6 14 11  7  4]\n",
      " [ 7 11  5  4  4]\n",
      " [ 5  4 10  8  3]]\n"
     ]
    }
   ],
   "source": [
    "print(arr1)"
   ]
  },
  {
   "cell_type": "code",
   "execution_count": 5,
   "metadata": {},
   "outputs": [
    {
     "data": {
      "text/plain": [
       "array([[13, 19,  9, 18,  5],\n",
       "       [ 8, 24, 17, 11,  5],\n",
       "       [ 9, 21, 11,  8,  5],\n",
       "       [ 7, 14, 16, 12,  4]])"
      ]
     },
     "execution_count": 5,
     "metadata": {},
     "output_type": "execute_result"
    }
   ],
   "source": [
    "arr1+arr2 #Addition along the rows"
   ]
  },
  {
   "cell_type": "code",
   "execution_count": 6,
   "metadata": {},
   "outputs": [],
   "source": [
    "arr3 = np.array([3,1,9,7]).reshape(4,1)"
   ]
  },
  {
   "cell_type": "code",
   "execution_count": 7,
   "metadata": {},
   "outputs": [
    {
     "data": {
      "text/plain": [
       "array([[14, 12,  6, 17,  7],\n",
       "       [ 7, 15, 12,  8,  5],\n",
       "       [16, 20, 14, 13, 13],\n",
       "       [12, 11, 17, 15, 10]])"
      ]
     },
     "execution_count": 7,
     "metadata": {},
     "output_type": "execute_result"
    }
   ],
   "source": [
    "arr1+arr3 #Addition along columns"
   ]
  },
  {
   "cell_type": "code",
   "execution_count": 17,
   "metadata": {},
   "outputs": [
    {
     "name": "stdout",
     "output_type": "stream",
     "text": [
      "[[[19  4 19 16 18]]\n",
      "\n",
      " [[ 1  4 14 14 13]]\n",
      "\n",
      " [[19  7 19 13 14]]\n",
      "\n",
      " [[16 10  3 12  8]]]\n"
     ]
    }
   ],
   "source": [
    "#Broadcasting with higher dimension arrays\n",
    "\n",
    "arr1 = np.random.randint(1,20, size=(4,5))\n",
    "arr2 = np.random.randint(1,20, size=(4,5))\n",
    "arr1_3d = arr1[:, np.newaxis, :]\n",
    "arr2_3d = arr2[:, :, np.newaxis]\n",
    "print(arr1_3d)"
   ]
  },
  {
   "cell_type": "code",
   "execution_count": 10,
   "metadata": {},
   "outputs": [
    {
     "data": {
      "text/plain": [
       "(4, 1, 5)"
      ]
     },
     "execution_count": 10,
     "metadata": {},
     "output_type": "execute_result"
    }
   ],
   "source": [
    "arr1_3d.shape"
   ]
  },
  {
   "cell_type": "code",
   "execution_count": 20,
   "metadata": {},
   "outputs": [
    {
     "data": {
      "text/plain": [
       "array([[[ 2],\n",
       "        [ 4],\n",
       "        [ 3],\n",
       "        [13],\n",
       "        [ 8]],\n",
       "\n",
       "       [[14],\n",
       "        [ 3],\n",
       "        [ 7],\n",
       "        [10],\n",
       "        [ 7]],\n",
       "\n",
       "       [[10],\n",
       "        [12],\n",
       "        [13],\n",
       "        [18],\n",
       "        [ 5]],\n",
       "\n",
       "       [[17],\n",
       "        [16],\n",
       "        [11],\n",
       "        [ 4],\n",
       "        [ 4]]])"
      ]
     },
     "execution_count": 20,
     "metadata": {},
     "output_type": "execute_result"
    }
   ],
   "source": [
    "arr2_3d"
   ]
  },
  {
   "cell_type": "code",
   "execution_count": 19,
   "metadata": {},
   "outputs": [
    {
     "data": {
      "text/plain": [
       "array([[[21,  6, 21, 18, 20],\n",
       "        [23,  8, 23, 20, 22],\n",
       "        [22,  7, 22, 19, 21],\n",
       "        [32, 17, 32, 29, 31],\n",
       "        [27, 12, 27, 24, 26]],\n",
       "\n",
       "       [[15, 18, 28, 28, 27],\n",
       "        [ 4,  7, 17, 17, 16],\n",
       "        [ 8, 11, 21, 21, 20],\n",
       "        [11, 14, 24, 24, 23],\n",
       "        [ 8, 11, 21, 21, 20]],\n",
       "\n",
       "       [[29, 17, 29, 23, 24],\n",
       "        [31, 19, 31, 25, 26],\n",
       "        [32, 20, 32, 26, 27],\n",
       "        [37, 25, 37, 31, 32],\n",
       "        [24, 12, 24, 18, 19]],\n",
       "\n",
       "       [[33, 27, 20, 29, 25],\n",
       "        [32, 26, 19, 28, 24],\n",
       "        [27, 21, 14, 23, 19],\n",
       "        [20, 14,  7, 16, 12],\n",
       "        [20, 14,  7, 16, 12]]])"
      ]
     },
     "execution_count": 19,
     "metadata": {},
     "output_type": "execute_result"
    }
   ],
   "source": [
    "arr1_3d + arr2_3d"
   ]
  },
  {
   "cell_type": "code",
   "execution_count": 25,
   "metadata": {},
   "outputs": [],
   "source": [
    "arr_ones = np.ones((5,5))"
   ]
  },
  {
   "cell_type": "code",
   "execution_count": 26,
   "metadata": {},
   "outputs": [
    {
     "data": {
      "text/plain": [
       "array([[1., 1., 1., 1., 1.],\n",
       "       [1., 1., 1., 1., 1.],\n",
       "       [1., 1., 1., 1., 1.],\n",
       "       [1., 1., 1., 1., 1.],\n",
       "       [1., 1., 1., 1., 1.]])"
      ]
     },
     "execution_count": 26,
     "metadata": {},
     "output_type": "execute_result"
    }
   ],
   "source": [
    "arr_ones"
   ]
  },
  {
   "cell_type": "code",
   "execution_count": 27,
   "metadata": {},
   "outputs": [],
   "source": [
    "arr_ones[:] = 25"
   ]
  },
  {
   "cell_type": "code",
   "execution_count": 28,
   "metadata": {},
   "outputs": [
    {
     "data": {
      "text/plain": [
       "array([[25., 25., 25., 25., 25.],\n",
       "       [25., 25., 25., 25., 25.],\n",
       "       [25., 25., 25., 25., 25.],\n",
       "       [25., 25., 25., 25., 25.],\n",
       "       [25., 25., 25., 25., 25.]])"
      ]
     },
     "execution_count": 28,
     "metadata": {},
     "output_type": "execute_result"
    }
   ],
   "source": [
    "arr_ones"
   ]
  },
  {
   "cell_type": "code",
   "execution_count": null,
   "metadata": {},
   "outputs": [],
   "source": []
  }
 ],
 "metadata": {
  "kernelspec": {
   "display_name": "base",
   "language": "python",
   "name": "python3"
  },
  "language_info": {
   "codemirror_mode": {
    "name": "ipython",
    "version": 3
   },
   "file_extension": ".py",
   "mimetype": "text/x-python",
   "name": "python",
   "nbconvert_exporter": "python",
   "pygments_lexer": "ipython3",
   "version": "3.10.9"
  },
  "orig_nbformat": 4,
  "vscode": {
   "interpreter": {
    "hash": "49cb93f377a7abe7414b7b0f21fb3017538004a126cf690fb524202736b7fb92"
   }
  }
 },
 "nbformat": 4,
 "nbformat_minor": 2
}
