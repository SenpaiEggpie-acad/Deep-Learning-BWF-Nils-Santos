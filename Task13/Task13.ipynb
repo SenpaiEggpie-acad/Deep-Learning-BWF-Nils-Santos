{
 "cells": [
  {
   "cell_type": "code",
   "execution_count": 1,
   "metadata": {},
   "outputs": [],
   "source": [
    "import pandas as pd"
   ]
  },
  {
   "cell_type": "code",
   "execution_count": 3,
   "metadata": {},
   "outputs": [],
   "source": [
    "df = pd.read_csv('trending.csv')"
   ]
  },
  {
   "cell_type": "code",
   "execution_count": 4,
   "metadata": {},
   "outputs": [
    {
     "data": {
      "text/html": [
       "<div>\n",
       "<style scoped>\n",
       "    .dataframe tbody tr th:only-of-type {\n",
       "        vertical-align: middle;\n",
       "    }\n",
       "\n",
       "    .dataframe tbody tr th {\n",
       "        vertical-align: top;\n",
       "    }\n",
       "\n",
       "    .dataframe thead th {\n",
       "        text-align: right;\n",
       "    }\n",
       "</style>\n",
       "<table border=\"1\" class=\"dataframe\">\n",
       "  <thead>\n",
       "    <tr style=\"text-align: right;\">\n",
       "      <th></th>\n",
       "      <th>Unnamed: 0</th>\n",
       "      <th>id</th>\n",
       "      <th>original_title</th>\n",
       "      <th>original_language</th>\n",
       "      <th>release_date</th>\n",
       "      <th>popularity</th>\n",
       "      <th>vote_average</th>\n",
       "      <th>vote_count</th>\n",
       "      <th>media_type</th>\n",
       "      <th>adult</th>\n",
       "    </tr>\n",
       "  </thead>\n",
       "  <tbody>\n",
       "    <tr>\n",
       "      <th>0</th>\n",
       "      <td>0</td>\n",
       "      <td>638974</td>\n",
       "      <td>Murder Mystery 2</td>\n",
       "      <td>English</td>\n",
       "      <td>2023-03-26</td>\n",
       "      <td>235.901</td>\n",
       "      <td>6.800</td>\n",
       "      <td>187</td>\n",
       "      <td>movie</td>\n",
       "      <td>False</td>\n",
       "    </tr>\n",
       "    <tr>\n",
       "      <th>1</th>\n",
       "      <td>1</td>\n",
       "      <td>677179</td>\n",
       "      <td>Creed III</td>\n",
       "      <td>English</td>\n",
       "      <td>2023-03-01</td>\n",
       "      <td>1537.879</td>\n",
       "      <td>7.200</td>\n",
       "      <td>561</td>\n",
       "      <td>movie</td>\n",
       "      <td>False</td>\n",
       "    </tr>\n",
       "    <tr>\n",
       "      <th>2</th>\n",
       "      <td>2</td>\n",
       "      <td>726759</td>\n",
       "      <td>Tetris</td>\n",
       "      <td>English</td>\n",
       "      <td>2023-03-15</td>\n",
       "      <td>66.661</td>\n",
       "      <td>7.700</td>\n",
       "      <td>100</td>\n",
       "      <td>movie</td>\n",
       "      <td>False</td>\n",
       "    </tr>\n",
       "    <tr>\n",
       "      <th>3</th>\n",
       "      <td>3</td>\n",
       "      <td>76600</td>\n",
       "      <td>Avatar: The Way of Water</td>\n",
       "      <td>English</td>\n",
       "      <td>2022-12-14</td>\n",
       "      <td>10224.280</td>\n",
       "      <td>7.742</td>\n",
       "      <td>6335</td>\n",
       "      <td>movie</td>\n",
       "      <td>False</td>\n",
       "    </tr>\n",
       "    <tr>\n",
       "      <th>4</th>\n",
       "      <td>4</td>\n",
       "      <td>849869</td>\n",
       "      <td>길복순</td>\n",
       "      <td>Korean</td>\n",
       "      <td>2023-02-17</td>\n",
       "      <td>33.985</td>\n",
       "      <td>6.900</td>\n",
       "      <td>39</td>\n",
       "      <td>movie</td>\n",
       "      <td>False</td>\n",
       "    </tr>\n",
       "    <tr>\n",
       "      <th>...</th>\n",
       "      <td>...</td>\n",
       "      <td>...</td>\n",
       "      <td>...</td>\n",
       "      <td>...</td>\n",
       "      <td>...</td>\n",
       "      <td>...</td>\n",
       "      <td>...</td>\n",
       "      <td>...</td>\n",
       "      <td>...</td>\n",
       "      <td>...</td>\n",
       "    </tr>\n",
       "    <tr>\n",
       "      <th>16075</th>\n",
       "      <td>16075</td>\n",
       "      <td>117465</td>\n",
       "      <td>NaN</td>\n",
       "      <td>Japanese</td>\n",
       "      <td>NaN</td>\n",
       "      <td>62.392</td>\n",
       "      <td>10.000</td>\n",
       "      <td>4</td>\n",
       "      <td>tv</td>\n",
       "      <td>False</td>\n",
       "    </tr>\n",
       "    <tr>\n",
       "      <th>16076</th>\n",
       "      <td>16076</td>\n",
       "      <td>933419</td>\n",
       "      <td>Champions</td>\n",
       "      <td>English</td>\n",
       "      <td>2023-03-09</td>\n",
       "      <td>104.315</td>\n",
       "      <td>6.512</td>\n",
       "      <td>43</td>\n",
       "      <td>movie</td>\n",
       "      <td>False</td>\n",
       "    </tr>\n",
       "    <tr>\n",
       "      <th>16077</th>\n",
       "      <td>16077</td>\n",
       "      <td>208891</td>\n",
       "      <td>NaN</td>\n",
       "      <td>Japanese</td>\n",
       "      <td>NaN</td>\n",
       "      <td>59.825</td>\n",
       "      <td>8.667</td>\n",
       "      <td>3</td>\n",
       "      <td>tv</td>\n",
       "      <td>False</td>\n",
       "    </tr>\n",
       "    <tr>\n",
       "      <th>16078</th>\n",
       "      <td>16078</td>\n",
       "      <td>878375</td>\n",
       "      <td>On a Wing and a Prayer</td>\n",
       "      <td>English</td>\n",
       "      <td>2023-04-06</td>\n",
       "      <td>53.714</td>\n",
       "      <td>8.000</td>\n",
       "      <td>4</td>\n",
       "      <td>movie</td>\n",
       "      <td>False</td>\n",
       "    </tr>\n",
       "    <tr>\n",
       "      <th>16079</th>\n",
       "      <td>16079</td>\n",
       "      <td>82856</td>\n",
       "      <td>NaN</td>\n",
       "      <td>English</td>\n",
       "      <td>NaN</td>\n",
       "      <td>1108.646</td>\n",
       "      <td>8.488</td>\n",
       "      <td>8697</td>\n",
       "      <td>tv</td>\n",
       "      <td>False</td>\n",
       "    </tr>\n",
       "  </tbody>\n",
       "</table>\n",
       "<p>16080 rows × 10 columns</p>\n",
       "</div>"
      ],
      "text/plain": [
       "       Unnamed: 0      id            original_title original_language  \\\n",
       "0               0  638974          Murder Mystery 2           English   \n",
       "1               1  677179                 Creed III           English   \n",
       "2               2  726759                    Tetris           English   \n",
       "3               3   76600  Avatar: The Way of Water           English   \n",
       "4               4  849869                       길복순            Korean   \n",
       "...           ...     ...                       ...               ...   \n",
       "16075       16075  117465                       NaN          Japanese   \n",
       "16076       16076  933419                 Champions           English   \n",
       "16077       16077  208891                       NaN          Japanese   \n",
       "16078       16078  878375    On a Wing and a Prayer           English   \n",
       "16079       16079   82856                       NaN           English   \n",
       "\n",
       "      release_date  popularity  vote_average  vote_count media_type  adult  \n",
       "0       2023-03-26     235.901         6.800         187      movie  False  \n",
       "1       2023-03-01    1537.879         7.200         561      movie  False  \n",
       "2       2023-03-15      66.661         7.700         100      movie  False  \n",
       "3       2022-12-14   10224.280         7.742        6335      movie  False  \n",
       "4       2023-02-17      33.985         6.900          39      movie  False  \n",
       "...            ...         ...           ...         ...        ...    ...  \n",
       "16075          NaN      62.392        10.000           4         tv  False  \n",
       "16076   2023-03-09     104.315         6.512          43      movie  False  \n",
       "16077          NaN      59.825         8.667           3         tv  False  \n",
       "16078   2023-04-06      53.714         8.000           4      movie  False  \n",
       "16079          NaN    1108.646         8.488        8697         tv  False  \n",
       "\n",
       "[16080 rows x 10 columns]"
      ]
     },
     "execution_count": 4,
     "metadata": {},
     "output_type": "execute_result"
    }
   ],
   "source": [
    "df"
   ]
  },
  {
   "cell_type": "code",
   "execution_count": 8,
   "metadata": {},
   "outputs": [],
   "source": [
    "df=df.drop(labels='Unnamed: 0', axis=1) #Removing extra index column"
   ]
  },
  {
   "cell_type": "code",
   "execution_count": 15,
   "metadata": {},
   "outputs": [
    {
     "data": {
      "text/plain": [
       "str"
      ]
     },
     "execution_count": 15,
     "metadata": {},
     "output_type": "execute_result"
    }
   ],
   "source": [
    "type(df['release_date'][0])"
   ]
  },
  {
   "cell_type": "code",
   "execution_count": 21,
   "metadata": {},
   "outputs": [],
   "source": [
    "#Web Scraping\n",
    "\n",
    "tables = pd.read_html('https://www.fdic.gov/resources/resolutions/bank-failures/failed-bank-list/')"
   ]
  },
  {
   "cell_type": "code",
   "execution_count": 23,
   "metadata": {},
   "outputs": [
    {
     "data": {
      "text/plain": [
       "pandas.core.frame.DataFrame"
      ]
     },
     "execution_count": 23,
     "metadata": {},
     "output_type": "execute_result"
    }
   ],
   "source": [
    "type(tables[0])"
   ]
  },
  {
   "cell_type": "code",
   "execution_count": 24,
   "metadata": {},
   "outputs": [],
   "source": [
    "fail_banks = tables[0]"
   ]
  },
  {
   "cell_type": "code",
   "execution_count": 25,
   "metadata": {},
   "outputs": [
    {
     "data": {
      "text/html": [
       "<div>\n",
       "<style scoped>\n",
       "    .dataframe tbody tr th:only-of-type {\n",
       "        vertical-align: middle;\n",
       "    }\n",
       "\n",
       "    .dataframe tbody tr th {\n",
       "        vertical-align: top;\n",
       "    }\n",
       "\n",
       "    .dataframe thead th {\n",
       "        text-align: right;\n",
       "    }\n",
       "</style>\n",
       "<table border=\"1\" class=\"dataframe\">\n",
       "  <thead>\n",
       "    <tr style=\"text-align: right;\">\n",
       "      <th></th>\n",
       "      <th>Bank NameBank</th>\n",
       "      <th>CityCity</th>\n",
       "      <th>StateSt</th>\n",
       "      <th>CertCert</th>\n",
       "      <th>Acquiring InstitutionAI</th>\n",
       "      <th>Closing DateClosing</th>\n",
       "      <th>FundFund</th>\n",
       "    </tr>\n",
       "  </thead>\n",
       "  <tbody>\n",
       "    <tr>\n",
       "      <th>0</th>\n",
       "      <td>Signature Bank</td>\n",
       "      <td>New York</td>\n",
       "      <td>NY</td>\n",
       "      <td>57053</td>\n",
       "      <td>Flagstar Bank, N.A.</td>\n",
       "      <td>March 12, 2023</td>\n",
       "      <td>10540</td>\n",
       "    </tr>\n",
       "    <tr>\n",
       "      <th>1</th>\n",
       "      <td>Silicon Valley Bank</td>\n",
       "      <td>Santa Clara</td>\n",
       "      <td>CA</td>\n",
       "      <td>24735</td>\n",
       "      <td>First–Citizens Bank &amp; Trust Company</td>\n",
       "      <td>March 10, 2023</td>\n",
       "      <td>10539</td>\n",
       "    </tr>\n",
       "    <tr>\n",
       "      <th>2</th>\n",
       "      <td>Almena State Bank</td>\n",
       "      <td>Almena</td>\n",
       "      <td>KS</td>\n",
       "      <td>15426</td>\n",
       "      <td>Equity Bank</td>\n",
       "      <td>October 23, 2020</td>\n",
       "      <td>10538</td>\n",
       "    </tr>\n",
       "    <tr>\n",
       "      <th>3</th>\n",
       "      <td>First City Bank of Florida</td>\n",
       "      <td>Fort Walton Beach</td>\n",
       "      <td>FL</td>\n",
       "      <td>16748</td>\n",
       "      <td>United Fidelity Bank, fsb</td>\n",
       "      <td>October 16, 2020</td>\n",
       "      <td>10537</td>\n",
       "    </tr>\n",
       "    <tr>\n",
       "      <th>4</th>\n",
       "      <td>The First State Bank</td>\n",
       "      <td>Barboursville</td>\n",
       "      <td>WV</td>\n",
       "      <td>14361</td>\n",
       "      <td>MVB Bank, Inc.</td>\n",
       "      <td>April 3, 2020</td>\n",
       "      <td>10536</td>\n",
       "    </tr>\n",
       "  </tbody>\n",
       "</table>\n",
       "</div>"
      ],
      "text/plain": [
       "                Bank NameBank           CityCity StateSt  CertCert  \\\n",
       "0              Signature Bank           New York      NY     57053   \n",
       "1         Silicon Valley Bank        Santa Clara      CA     24735   \n",
       "2           Almena State Bank             Almena      KS     15426   \n",
       "3  First City Bank of Florida  Fort Walton Beach      FL     16748   \n",
       "4        The First State Bank      Barboursville      WV     14361   \n",
       "\n",
       "               Acquiring InstitutionAI Closing DateClosing  FundFund  \n",
       "0                  Flagstar Bank, N.A.      March 12, 2023     10540  \n",
       "1  First–Citizens Bank & Trust Company      March 10, 2023     10539  \n",
       "2                          Equity Bank    October 23, 2020     10538  \n",
       "3            United Fidelity Bank, fsb    October 16, 2020     10537  \n",
       "4                       MVB Bank, Inc.       April 3, 2020     10536  "
      ]
     },
     "execution_count": 25,
     "metadata": {},
     "output_type": "execute_result"
    }
   ],
   "source": [
    "fail_banks.head()"
   ]
  },
  {
   "cell_type": "code",
   "execution_count": 26,
   "metadata": {},
   "outputs": [
    {
     "data": {
      "text/plain": [
       "Index(['Bank NameBank', 'CityCity', 'StateSt', 'CertCert',\n",
       "       'Acquiring InstitutionAI', 'Closing DateClosing', 'FundFund'],\n",
       "      dtype='object')"
      ]
     },
     "execution_count": 26,
     "metadata": {},
     "output_type": "execute_result"
    }
   ],
   "source": [
    "fail_banks.columns"
   ]
  },
  {
   "cell_type": "code",
   "execution_count": 27,
   "metadata": {},
   "outputs": [],
   "source": [
    "close_dates = fail_banks['Closing DateClosing']"
   ]
  },
  {
   "cell_type": "code",
   "execution_count": 28,
   "metadata": {},
   "outputs": [
    {
     "data": {
      "text/plain": [
       "0         March 12, 2023\n",
       "1         March 10, 2023\n",
       "2       October 23, 2020\n",
       "3       October 16, 2020\n",
       "4          April 3, 2020\n",
       "             ...        \n",
       "560        July 27, 2001\n",
       "561          May 3, 2001\n",
       "562     February 2, 2001\n",
       "563    December 14, 2000\n",
       "564     October 13, 2000\n",
       "Name: Closing DateClosing, Length: 565, dtype: object"
      ]
     },
     "execution_count": 28,
     "metadata": {},
     "output_type": "execute_result"
    }
   ],
   "source": [
    "close_dates"
   ]
  },
  {
   "cell_type": "code",
   "execution_count": 29,
   "metadata": {},
   "outputs": [
    {
     "data": {
      "text/plain": [
       "0     2023-03-12\n",
       "1     2023-03-10\n",
       "2     2020-10-23\n",
       "3     2020-10-16\n",
       "4     2020-04-03\n",
       "         ...    \n",
       "560   2001-07-27\n",
       "561   2001-05-03\n",
       "562   2001-02-02\n",
       "563   2000-12-14\n",
       "564   2000-10-13\n",
       "Name: Closing DateClosing, Length: 565, dtype: datetime64[ns]"
      ]
     },
     "execution_count": 29,
     "metadata": {},
     "output_type": "execute_result"
    }
   ],
   "source": [
    "close_dates = pd.to_datetime(close_dates)\n",
    "close_dates"
   ]
  },
  {
   "cell_type": "code",
   "execution_count": null,
   "metadata": {},
   "outputs": [],
   "source": []
  }
 ],
 "metadata": {
  "kernelspec": {
   "display_name": "base",
   "language": "python",
   "name": "python3"
  },
  "language_info": {
   "codemirror_mode": {
    "name": "ipython",
    "version": 3
   },
   "file_extension": ".py",
   "mimetype": "text/x-python",
   "name": "python",
   "nbconvert_exporter": "python",
   "pygments_lexer": "ipython3",
   "version": "3.10.9"
  },
  "orig_nbformat": 4,
  "vscode": {
   "interpreter": {
    "hash": "49cb93f377a7abe7414b7b0f21fb3017538004a126cf690fb524202736b7fb92"
   }
  }
 },
 "nbformat": 4,
 "nbformat_minor": 2
}
