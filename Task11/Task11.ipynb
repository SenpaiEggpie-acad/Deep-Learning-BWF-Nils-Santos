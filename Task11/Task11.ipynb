{
 "cells": [
  {
   "attachments": {},
   "cell_type": "markdown",
   "metadata": {},
   "source": [
    "**Statistical Functions with Numpy**"
   ]
  },
  {
   "cell_type": "code",
   "execution_count": 1,
   "metadata": {},
   "outputs": [],
   "source": [
    "import numpy as np"
   ]
  },
  {
   "cell_type": "code",
   "execution_count": 9,
   "metadata": {},
   "outputs": [],
   "source": [
    "data = np.random.normal(size=(10,10)) #Random numbers using normal distribution"
   ]
  },
  {
   "cell_type": "code",
   "execution_count": 10,
   "metadata": {},
   "outputs": [
    {
     "name": "stdout",
     "output_type": "stream",
     "text": [
      "[[-2.13987955 -2.26479964 -1.67885148 -0.38955759  0.08384315  1.08911782\n",
      "   0.51740221  0.38917401 -1.15108611 -0.42497249]\n",
      " [ 0.52366336 -0.8502074   1.28772554 -0.16481166 -0.86413056  1.42318559\n",
      "   1.53163838  0.27415498  0.31986359  1.64231017]\n",
      " [ 0.0975399  -0.52060404 -0.43237747 -1.98067579  0.73694315 -0.66542289\n",
      "   1.3484357   0.42974581 -0.69929419  0.4697819 ]\n",
      " [-1.15245245 -0.03915229  1.04487417 -1.35299994  0.00704083 -0.64238925\n",
      "  -0.08158869  1.37853044  0.04144095 -0.44785   ]\n",
      " [-2.4456845  -0.04024802  1.34564595  0.28337446  0.82034785 -0.5687119\n",
      "  -1.52704619 -0.42922733 -0.36771845  0.76166705]\n",
      " [-1.22243593  0.90390103 -0.35670574 -0.3446246  -0.35700854  0.53578132\n",
      "   0.41149788 -1.19545244  1.31141794  1.85905554]\n",
      " [-0.71018476  0.23010924 -0.44266117  0.40771906  0.62739398  0.41282006\n",
      "   2.22026085  0.65957808  1.68163966  0.40550718]\n",
      " [ 0.40407593  1.61253382  1.18779792 -1.25828254  1.27862959 -1.66399242\n",
      "  -0.01757576 -0.90796852  0.30091519 -1.12680299]\n",
      " [ 0.72994024 -1.21483731  0.92343263 -1.60431442 -1.43751317  0.15256896\n",
      "   0.9931389   0.01466949  0.0837313  -0.59790567]\n",
      " [-0.69697988 -2.13671207 -0.45735493 -1.64972072  0.71052354  1.37309411\n",
      "   0.42791241  0.32278001  2.19952022 -1.39802792]]\n"
     ]
    }
   ],
   "source": [
    "print(data)"
   ]
  },
  {
   "cell_type": "code",
   "execution_count": 11,
   "metadata": {},
   "outputs": [
    {
     "data": {
      "text/plain": [
       "-0.018894083067936124"
      ]
     },
     "execution_count": 11,
     "metadata": {},
     "output_type": "execute_result"
    }
   ],
   "source": [
    "mean = np.mean(data)\n",
    "mean"
   ]
  },
  {
   "cell_type": "code",
   "execution_count": 13,
   "metadata": {},
   "outputs": [
    {
     "data": {
      "text/plain": [
       "0.0625861274632209"
      ]
     },
     "execution_count": 13,
     "metadata": {},
     "output_type": "execute_result"
    }
   ],
   "source": [
    "median = np.median(data)\n",
    "median"
   ]
  },
  {
   "cell_type": "code",
   "execution_count": 18,
   "metadata": {},
   "outputs": [
    {
     "data": {
      "text/plain": [
       "-0.6975584564151229"
      ]
     },
     "execution_count": 18,
     "metadata": {},
     "output_type": "execute_result"
    }
   ],
   "source": [
    "np.quantile(data,.25) #25th quantile"
   ]
  },
  {
   "cell_type": "code",
   "execution_count": 29,
   "metadata": {},
   "outputs": [
    {
     "data": {
      "text/plain": [
       "(array(['green', 'orange', 'red', 'yellow'], dtype='<U6'),\n",
       " array([19, 26, 28, 27], dtype=int64))"
      ]
     },
     "execution_count": 29,
     "metadata": {},
     "output_type": "execute_result"
    }
   ],
   "source": [
    "choices = ['red','orange','yellow','green','blue']\n",
    "dataset = []\n",
    "while len(dataset) < 100:\n",
    "    dataset.append(choices[np.random.randint(0,len(choices)-1)])\n",
    "\n",
    "dataset = np.array(dataset)\n",
    "np.unique(dataset, return_counts=True)\n",
    "\n",
    "#From the outputs, it can be seen that the mode is red with a frequency of 28"
   ]
  },
  {
   "cell_type": "code",
   "execution_count": null,
   "metadata": {},
   "outputs": [],
   "source": []
  }
 ],
 "metadata": {
  "kernelspec": {
   "display_name": "base",
   "language": "python",
   "name": "python3"
  },
  "language_info": {
   "codemirror_mode": {
    "name": "ipython",
    "version": 3
   },
   "file_extension": ".py",
   "mimetype": "text/x-python",
   "name": "python",
   "nbconvert_exporter": "python",
   "pygments_lexer": "ipython3",
   "version": "3.10.9"
  },
  "orig_nbformat": 4
 },
 "nbformat": 4,
 "nbformat_minor": 2
}
